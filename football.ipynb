{
 "cells": [
  {
   "cell_type": "code",
   "execution_count": 26,
   "metadata": {},
   "outputs": [],
   "source": [
    "import pandas as pd\n",
    "matches=pd.read_csv(\"matches.csv\",index_col=4)\n",
    "matches.shape\n",
    "matches[matches[\"team\"]==\"Liverpool\"]\n",
    "matches[\"data\"]=pd.to_datetime(matches[\"date\"])\n",
    "matches[\"venue_code\"]=matches[\"venue\"].astype(\"category\").cat.codes\n",
    "matches[\"opp_code\"]=matches[\"opponent\"].astype(\"category\").cat.codes\n",
    "matches[\"hour\"]=matches[\"time\"].str.replace(\":.+\",\"\",regex=True).astype(\"int\")\n",
    "matches[\"date\"]=pd.to_datetime(matches[\"date\"])\n",
    "matches[\"day_code\"]=matches[\"date\"].dt.dayofweek\n",
    "matches[\"target\"]=(matches[\"result\"]==\"W\").astype(\"int\")"
   ]
  },
  {
   "cell_type": "code",
   "execution_count": null,
   "metadata": {},
   "outputs": [],
   "source": []
  },
  {
   "cell_type": "code",
   "execution_count": null,
   "metadata": {},
   "outputs": [],
   "source": []
  },
  {
   "cell_type": "code",
   "execution_count": 36,
   "metadata": {},
   "outputs": [
    {
     "name": "stdout",
     "output_type": "stream",
     "text": [
      "0.625\n"
     ]
    },
    {
     "data": {
      "text/plain": [
       "1    11\n",
       "0     5\n",
       "Name: actual_x, dtype: int64"
      ]
     },
     "execution_count": 36,
     "metadata": {},
     "output_type": "execute_result"
    }
   ],
   "source": [
    "from sklearn.ensemble import RandomForestClassifier\n",
    "rf=RandomForestClassifier(n_estimators=50,min_samples_split=10,random_state=1)\n",
    "train=matches[matches[\"date\"]<\"2022-01-01\"]\n",
    "test=matches[matches[\"date\"]>\"2022-01-01\"]\n",
    "predictors=[\"venue_code\",\"opp_code\",\"hour\",\"day_code\"]\n",
    "rf.fit(train[predictors],train[\"target\"])\n",
    "preds=rf.predict(test[predictors])\n",
    "from sklearn.metrics import accuracy_score\n",
    "acc=accuracy_score(test[\"target\"],preds)\n",
    "def roll(group,cols,new_cols):\n",
    "    group=group.sort_values(\"date\")\n",
    "    roll_st=group[cols].rolling(3,closed='left').mean()\n",
    "    group[new_cols]=roll_st\n",
    "    group=group.dropna(subset=new_cols)\n",
    "    return group\n",
    "from sklearn.metrics import precision_score\n",
    "cols=[\"gf\",\"ga\",\"sh\",\"sot\",\"dist\",\"fk\",\"pk\",\"pkatt\"]\n",
    "new_cols=[f\"{c}_rolling\" for c in cols] \n",
    "matches_rolling=matches.groupby(\"team\").apply(lambda x:roll(x,cols,new_cols))\n",
    "\n",
    "matches_rolling=matches_rolling.droplevel(\"team\")\n",
    "matches_rolling.index=range(matches_rolling.shape[0])\n",
    "\n",
    "def make_predictions(data, predictors):\n",
    "    train = data[data[\"date\"] < '2022-01-01']\n",
    "    test = data[data[\"date\"] > '2022-01-01']\n",
    "    rf.fit(train[predictors], train[\"target\"])\n",
    "    preds = rf.predict(test[predictors])\n",
    "    combined = pd.DataFrame(dict(actual=test[\"target\"], predicted=preds), index=test.index)\n",
    "    error = precision_score(test[\"target\"], preds)\n",
    "    return combined, error\n",
    "combined,error=make_predictions(matches_rolling,predictors+new_cols)\n",
    "print(error)\n",
    "combined=combined.merge(matches_rolling[[\"date\",\"team\",\"opponent\",\"result\"]],left_index=True,right_index=True)\n",
    "combined\n",
    "class MissingDict(dict):\n",
    "    __missing__=lambda self,key:key\n",
    "map_values = {\"Brighton and Hove Albion\": \"Brighton\", \"Manchester United\": \"Manchester Utd\", \"Newcastle United\": \"Newcastle Utd\", \"Tottenham Hotspur\":\"Tottenham\",\"West Ham United\":\"West Ham\",\"Woverhampton Wanderrers\":\"Wolves\"}\n",
    "mapping=MissingDict(**map_values)    \n",
    "combined[\"new_team\"]=combined[\"team\"].map(map_values)\n",
    "combined\n",
    "merged=combined.merge(combined,left_on=[\"date\",\"new_team\"],right_on=[\"date\",\"opponent\"])\n",
    "merged[(merged[\"predicted_x\"] == 1) & (merged[\"predicted_y\"] ==0)][\"actual_x\"].value_counts()"
   ]
  }
 ],
 "metadata": {
  "kernelspec": {
   "display_name": "Python 3",
   "language": "python",
   "name": "python3"
  },
  "language_info": {
   "codemirror_mode": {
    "name": "ipython",
    "version": 3
   },
   "file_extension": ".py",
   "mimetype": "text/x-python",
   "name": "python",
   "nbconvert_exporter": "python",
   "pygments_lexer": "ipython3",
   "version": "3.11.2"
  },
  "orig_nbformat": 4
 },
 "nbformat": 4,
 "nbformat_minor": 2
}
